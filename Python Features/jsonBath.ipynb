{
 "cells": [
  {
   "cell_type": "code",
   "execution_count": 2,
   "metadata": {
    "collapsed": true
   },
   "outputs": [],
   "source": [
    "word = [\n",
    "    \"love\",\n",
    "    \"stone\",\n",
    "    \"apple\",\n",
    "    \"people\",\n",
    "    \"test\"\n",
    "]\n",
    "\n",
    "cnn_link = [\n",
    "    \"https://edition.cnn.com/videos/us/2020/06/01/police-killings-black-lives-matter-timeline-ryan-young-pkg.cnn\",\n",
    "    \"https://edition.cnn.com/us/live-news/george-floyd-protests-06-01-20/index.html\",\n",
    "    \"https://edition.cnn.com/2020/06/01/asia/hong-kong-tiananmen-vigil-intl-hnk/index.html\",\n",
    "    \"https://edition.cnn.com/videos/business/2020/05/30/spacex-nasa-launch-vpx.cnn\"\n",
    "]"
   ]
  },
  {
   "cell_type": "code",
   "execution_count": 3,
   "outputs": [],
   "source": [
    "import os"
   ],
   "metadata": {
    "collapsed": false,
    "pycharm": {
     "name": "#%%\n"
    }
   }
  },
  {
   "cell_type": "code",
   "execution_count": 4,
   "outputs": [],
   "source": [
    "default_argv = \"-save=\"\n",
    "nltk_path = \"./nltk/main.py\"\n",
    "summary_path = \"./summary/main.py\"\n",
    "nltk_argv = [\"ss\", \"soao\", \"ss -soao\"]\n",
    "summary_argv = ['s','p', 'a', 't', 'm']"
   ],
   "metadata": {
    "collapsed": false,
    "pycharm": {
     "name": "#%%\n"
    }
   }
  },
  {
   "cell_type": "code",
   "execution_count": 9,
   "outputs": [
    {
     "name": "stdout",
     "output_type": "stream",
     "text": [
      "love\n",
      "love\n",
      "love\n",
      "stone\n",
      "stone\n",
      "stone\n",
      "apple\n",
      "apple\n",
      "apple\n",
      "people\n",
      "people\n",
      "people\n",
      "test\n",
      "test\n",
      "test\n"
     ]
    }
   ],
   "source": [
    "for w in word:\n",
    "    for argv in nltk_argv:\n",
    "        print(w)\n",
    "        os.system(\"python \" + nltk_path + \" \" + w + \" -\" +\n",
    "              argv + \" \" + default_argv + w + \"_\" + argv.replace(\" \", \"\").replace(\"-\", \"_\"))"
   ],
   "metadata": {
    "collapsed": false,
    "pycharm": {
     "name": "#%%\n"
    }
   }
  },
  {
   "cell_type": "code",
   "execution_count": 10,
   "outputs": [
    {
     "name": "stdout",
     "output_type": "stream",
     "text": [
      "https://edition.cnn.com/videos/us/2020/06/01/police-killings-black-lives-matter-timeline-ryan-young-pkg.cnn\n",
      "https://edition.cnn.com/videos/us/2020/06/01/police-killings-black-lives-matter-timeline-ryan-young-pkg.cnn\n",
      "https://edition.cnn.com/videos/us/2020/06/01/police-killings-black-lives-matter-timeline-ryan-young-pkg.cnn\n",
      "https://edition.cnn.com/videos/us/2020/06/01/police-killings-black-lives-matter-timeline-ryan-young-pkg.cnn\n",
      "https://edition.cnn.com/videos/us/2020/06/01/police-killings-black-lives-matter-timeline-ryan-young-pkg.cnn\n",
      "https://edition.cnn.com/us/live-news/george-floyd-protests-06-01-20/index.html\n",
      "https://edition.cnn.com/us/live-news/george-floyd-protests-06-01-20/index.html\n",
      "https://edition.cnn.com/us/live-news/george-floyd-protests-06-01-20/index.html\n",
      "https://edition.cnn.com/us/live-news/george-floyd-protests-06-01-20/index.html\n",
      "https://edition.cnn.com/us/live-news/george-floyd-protests-06-01-20/index.html\n",
      "https://edition.cnn.com/2020/06/01/asia/hong-kong-tiananmen-vigil-intl-hnk/index.html\n",
      "https://edition.cnn.com/2020/06/01/asia/hong-kong-tiananmen-vigil-intl-hnk/index.html\n",
      "https://edition.cnn.com/2020/06/01/asia/hong-kong-tiananmen-vigil-intl-hnk/index.html\n",
      "https://edition.cnn.com/2020/06/01/asia/hong-kong-tiananmen-vigil-intl-hnk/index.html\n",
      "https://edition.cnn.com/2020/06/01/asia/hong-kong-tiananmen-vigil-intl-hnk/index.html\n",
      "https://edition.cnn.com/videos/business/2020/05/30/spacex-nasa-launch-vpx.cnn\n",
      "https://edition.cnn.com/videos/business/2020/05/30/spacex-nasa-launch-vpx.cnn\n",
      "https://edition.cnn.com/videos/business/2020/05/30/spacex-nasa-launch-vpx.cnn\n",
      "https://edition.cnn.com/videos/business/2020/05/30/spacex-nasa-launch-vpx.cnn\n",
      "https://edition.cnn.com/videos/business/2020/05/30/spacex-nasa-launch-vpx.cnn\n"
     ]
    }
   ],
   "source": [
    "for w in cnn_link:\n",
    "    for argv in summary_argv:\n",
    "        print(w)\n",
    "        os.system(\"python \" + summary_path + \" \" + w + \" -\" +\n",
    "              argv + \" \" + default_argv + str(abs(hash(w))) + \"_\" + argv)\n",
    "\n",
    "\n",
    "\n",
    "\n"
   ],
   "metadata": {
    "collapsed": false,
    "pycharm": {
     "name": "#%%\n"
    }
   }
  }
 ],
 "metadata": {
  "kernelspec": {
   "display_name": "Python 3",
   "language": "python",
   "name": "python3"
  },
  "language_info": {
   "codemirror_mode": {
    "name": "ipython",
    "version": 2
   },
   "file_extension": ".py",
   "mimetype": "text/x-python",
   "name": "python",
   "nbconvert_exporter": "python",
   "pygments_lexer": "ipython2",
   "version": "2.7.6"
  }
 },
 "nbformat": 4,
 "nbformat_minor": 0
}